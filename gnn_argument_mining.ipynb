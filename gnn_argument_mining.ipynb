{
 "cells": [
  {
   "metadata": {
    "ExecuteTime": {
     "end_time": "2025-07-11T12:52:48.434493Z",
     "start_time": "2025-07-11T12:52:48.431267Z"
    }
   },
   "cell_type": "code",
   "source": [
    "import json\n",
    "import os\n",
    "import pandas as pd"
   ],
   "id": "d37ef62672c90bef",
   "outputs": [],
   "execution_count": 13
  },
  {
   "metadata": {},
   "cell_type": "markdown",
   "source": "Remove incomplete experiments (`ok.txt` file not present)",
   "id": "646c07dcfdbc186f"
  },
  {
   "metadata": {
    "ExecuteTime": {
     "end_time": "2025-07-11T12:48:07.271212Z",
     "start_time": "2025-07-11T12:48:07.266195Z"
    }
   },
   "cell_type": "code",
   "source": [
    "res_dir = \"./results\"\n",
    "\n",
    "for dataset in os.listdir(res_dir):\n",
    "    res_data_dir = os.path.join(res_dir, dataset)\n",
    "    for job_id in os.listdir(res_data_dir):\n",
    "        job_dir = os.path.join(res_data_dir, job_id)\n",
    "        ok_file = os.path.join(job_dir, \"ok.txt\")\n",
    "        if not os.path.exists(ok_file):\n",
    "            print(f\"Removing {job_dir}\")\n",
    "            os.system(f\"rm -rf {job_dir}\")"
   ],
   "id": "initial_id",
   "outputs": [],
   "execution_count": 6
  },
  {
   "metadata": {},
   "cell_type": "markdown",
   "source": "Gather results",
   "id": "60006f5acbfb370"
  },
  {
   "metadata": {
    "ExecuteTime": {
     "end_time": "2025-07-11T12:57:37.100244Z",
     "start_time": "2025-07-11T12:57:37.091980Z"
    }
   },
   "cell_type": "code",
   "source": [
    "results = []\n",
    "\n",
    "res_dir = \"./results\"\n",
    "\n",
    "for dataset in os.listdir(res_dir):\n",
    "    res_data_dir = os.path.join(res_dir, dataset)\n",
    "    for job_id in os.listdir(res_data_dir):\n",
    "        job_dir = os.path.join(res_data_dir, job_id)\n",
    "        ok_file = os.path.join(job_dir, \"ok.txt\")\n",
    "        if not os.path.exists(ok_file):\n",
    "            continue\n",
    "        args = json.load(open(os.path.join(job_dir, \"args.json\")))\n",
    "        metrics = json.load(open(os.path.join(job_dir, \"metrics.json\")))\n",
    "        results.append({**args, **metrics})\n",
    "\n",
    "results = pd.DataFrame.from_records(results, index=\"job_id\")"
   ],
   "id": "381a2e501c3b4cfa",
   "outputs": [],
   "execution_count": 25
  },
  {
   "metadata": {
    "ExecuteTime": {
     "end_time": "2025-07-11T12:57:42.692886Z",
     "start_time": "2025-07-11T12:57:42.678418Z"
    }
   },
   "cell_type": "code",
   "source": "results",
   "id": "d15d3166a023fabc",
   "outputs": [
    {
     "data": {
      "text/plain": [
       "                   model_name  embed_size use_graph  use_hgraph  \\\n",
       "job_id                                                            \n",
       "20250708T172451  roberta-base         768      True           0   \n",
       "20250708T174458  roberta-base         768         0           0   \n",
       "\n",
       "                 first_last_avg  seed  batch_size  max_sent_len  epochs  \\\n",
       "job_id                                                                    \n",
       "20250708T172451               1     1          64           150      30   \n",
       "20250708T174458               1     1          64           150      30   \n",
       "\n",
       "                 weight_decay  ...  scheduler  use_rgcn  use_gat  \\\n",
       "job_id                         ...                                 \n",
       "20250708T172451          0.01  ...          0     False    False   \n",
       "20250708T174458          0.01  ...          0     False     True   \n",
       "\n",
       "                 class_weight  num_classes_adv  num_classes  accuracy  \\\n",
       "job_id                                                                  \n",
       "20250708T172451        [1, 1]                3            2  0.750231   \n",
       "20250708T174458        [1, 1]                3            2  0.748844   \n",
       "\n",
       "                precision    recall        f1  \n",
       "job_id                                         \n",
       "20250708T172451  0.755456  0.752972  0.749969  \n",
       "20250708T174458  0.750575  0.750380  0.748839  \n",
       "\n",
       "[2 rows x 29 columns]"
      ],
      "text/html": [
       "<div>\n",
       "<style scoped>\n",
       "    .dataframe tbody tr th:only-of-type {\n",
       "        vertical-align: middle;\n",
       "    }\n",
       "\n",
       "    .dataframe tbody tr th {\n",
       "        vertical-align: top;\n",
       "    }\n",
       "\n",
       "    .dataframe thead th {\n",
       "        text-align: right;\n",
       "    }\n",
       "</style>\n",
       "<table border=\"1\" class=\"dataframe\">\n",
       "  <thead>\n",
       "    <tr style=\"text-align: right;\">\n",
       "      <th></th>\n",
       "      <th>model_name</th>\n",
       "      <th>embed_size</th>\n",
       "      <th>use_graph</th>\n",
       "      <th>use_hgraph</th>\n",
       "      <th>first_last_avg</th>\n",
       "      <th>seed</th>\n",
       "      <th>batch_size</th>\n",
       "      <th>max_sent_len</th>\n",
       "      <th>epochs</th>\n",
       "      <th>weight_decay</th>\n",
       "      <th>...</th>\n",
       "      <th>scheduler</th>\n",
       "      <th>use_rgcn</th>\n",
       "      <th>use_gat</th>\n",
       "      <th>class_weight</th>\n",
       "      <th>num_classes_adv</th>\n",
       "      <th>num_classes</th>\n",
       "      <th>accuracy</th>\n",
       "      <th>precision</th>\n",
       "      <th>recall</th>\n",
       "      <th>f1</th>\n",
       "    </tr>\n",
       "    <tr>\n",
       "      <th>job_id</th>\n",
       "      <th></th>\n",
       "      <th></th>\n",
       "      <th></th>\n",
       "      <th></th>\n",
       "      <th></th>\n",
       "      <th></th>\n",
       "      <th></th>\n",
       "      <th></th>\n",
       "      <th></th>\n",
       "      <th></th>\n",
       "      <th></th>\n",
       "      <th></th>\n",
       "      <th></th>\n",
       "      <th></th>\n",
       "      <th></th>\n",
       "      <th></th>\n",
       "      <th></th>\n",
       "      <th></th>\n",
       "      <th></th>\n",
       "      <th></th>\n",
       "      <th></th>\n",
       "    </tr>\n",
       "  </thead>\n",
       "  <tbody>\n",
       "    <tr>\n",
       "      <th>20250708T172451</th>\n",
       "      <td>roberta-base</td>\n",
       "      <td>768</td>\n",
       "      <td>True</td>\n",
       "      <td>0</td>\n",
       "      <td>1</td>\n",
       "      <td>1</td>\n",
       "      <td>64</td>\n",
       "      <td>150</td>\n",
       "      <td>30</td>\n",
       "      <td>0.01</td>\n",
       "      <td>...</td>\n",
       "      <td>0</td>\n",
       "      <td>False</td>\n",
       "      <td>False</td>\n",
       "      <td>[1, 1]</td>\n",
       "      <td>3</td>\n",
       "      <td>2</td>\n",
       "      <td>0.750231</td>\n",
       "      <td>0.755456</td>\n",
       "      <td>0.752972</td>\n",
       "      <td>0.749969</td>\n",
       "    </tr>\n",
       "    <tr>\n",
       "      <th>20250708T174458</th>\n",
       "      <td>roberta-base</td>\n",
       "      <td>768</td>\n",
       "      <td>0</td>\n",
       "      <td>0</td>\n",
       "      <td>1</td>\n",
       "      <td>1</td>\n",
       "      <td>64</td>\n",
       "      <td>150</td>\n",
       "      <td>30</td>\n",
       "      <td>0.01</td>\n",
       "      <td>...</td>\n",
       "      <td>0</td>\n",
       "      <td>False</td>\n",
       "      <td>True</td>\n",
       "      <td>[1, 1]</td>\n",
       "      <td>3</td>\n",
       "      <td>2</td>\n",
       "      <td>0.748844</td>\n",
       "      <td>0.750575</td>\n",
       "      <td>0.750380</td>\n",
       "      <td>0.748839</td>\n",
       "    </tr>\n",
       "  </tbody>\n",
       "</table>\n",
       "<p>2 rows × 29 columns</p>\n",
       "</div>"
      ]
     },
     "execution_count": 27,
     "metadata": {},
     "output_type": "execute_result"
    }
   ],
   "execution_count": 27
  },
  {
   "metadata": {},
   "cell_type": "code",
   "outputs": [],
   "execution_count": null,
   "source": "",
   "id": "2b2d4fa6e178900c"
  }
 ],
 "metadata": {
  "kernelspec": {
   "display_name": "Python 3",
   "language": "python",
   "name": "python3"
  },
  "language_info": {
   "codemirror_mode": {
    "name": "ipython",
    "version": 2
   },
   "file_extension": ".py",
   "mimetype": "text/x-python",
   "name": "python",
   "nbconvert_exporter": "python",
   "pygments_lexer": "ipython2",
   "version": "2.7.6"
  }
 },
 "nbformat": 4,
 "nbformat_minor": 5
}
